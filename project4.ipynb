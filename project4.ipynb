{
 "cells": [
  {
   "cell_type": "code",
   "execution_count": 114,
   "id": "78fe4632-dae7-4b8e-971d-dfc2a9a2aab9",
   "metadata": {},
   "outputs": [],
   "source": [
    "#Minh Nguyen - cgv646\n",
    "#Project 4\n",
    "\n",
    "from bs4 import BeautifulSoup\n",
    "import requests\n",
    "import pandas as pd"
   ]
  },
  {
   "cell_type": "code",
   "execution_count": 116,
   "id": "e48988bf-d827-4708-b2cf-a6ab0c9434c4",
   "metadata": {},
   "outputs": [],
   "source": [
    "\n",
    "url_link = \"https://en.wikipedia.org/wiki/List_of_states_and_territories_of_the_United_States\"\n",
    "result = requests.get(url_link).text\n",
    "doc=BeautifulSoup(result, \"html.parser\")"
   ]
  },
  {
   "cell_type": "code",
   "execution_count": 117,
   "id": "c597240f-14f8-4dac-888e-462de495400f",
   "metadata": {},
   "outputs": [],
   "source": [
    "my_table=doc.find(\"table\",class_=\"wikitable sortable mw-datatable sticky-header-multi sort-under plainrowheaders\")\n"
   ]
  },
  {
   "cell_type": "code",
   "execution_count": 120,
   "id": "94cbbc64-3d81-4331-b556-87c098d8f20c",
   "metadata": {},
   "outputs": [
    {
     "name": "stdout",
     "output_type": "stream",
     "text": [
      "['postal abbreviation', None, None, None, None, 'Reps.', None, 'Alabama', 'Alaska', 'Arizona', 'Arkansas', 'California', 'Colorado', 'Connecticut', 'Delaware', 'Florida', 'Georgia', 'Hawaii', 'Idaho', 'Illinois', 'Indiana', 'Iowa', 'Kansas', 'Kentucky', None, 'Louisiana', 'Maine', 'Maryland', 'Massachusetts', None, 'Michigan', 'Minnesota', 'Mississippi', 'Missouri', 'Montana', 'Nebraska', 'Nevada', 'New Hampshire', 'New Jersey', 'New Mexico', 'New York', 'North Carolina', 'North Dakota', 'Ohio', 'Oklahoma', 'Oregon', 'Pennsylvania', None, 'Rhode Island', 'South Carolina', 'South Dakota', 'Tennessee', 'Texas', 'Utah', 'Vermont', 'Virginia', None, 'Washington', 'West Virginia', 'Wisconsin', 'Wyoming']\n"
     ]
    }
   ],
   "source": [
    "#scraping a in th tags\n",
    "th_tags = my_table.find_all('th')\n",
    "names = []\n",
    "for elem in th_tags:\n",
    "    a_links = elem.find_all(\"a\")\n",
    "    for i in a_links:\n",
    "        names.append(i.string)\n",
    "\n",
    "print(names)\n",
    "    "
   ]
  },
  {
   "cell_type": "code",
   "execution_count": 122,
   "id": "ef7a1ebd-cdff-4b98-bbec-7622af32bb08",
   "metadata": {},
   "outputs": [
    {
     "name": "stdout",
     "output_type": "stream",
     "text": [
      "['Alabama', 'Alaska', 'Arizona', 'Arkansas', 'California', 'Colorado', 'Connecticut', 'Delaware', 'Florida', 'Georgia', 'Hawaii', 'Idaho', 'Illinois', 'Indiana', 'Iowa', 'Kansas', 'Kentucky', 'Louisiana', 'Maine', 'Maryland', 'Massachusetts', 'Michigan', 'Minnesota', 'Mississippi', 'Missouri', 'Montana', 'Nebraska', 'Nevada', 'New Hampshire', 'New Jersey', 'New Mexico', 'New York', 'North Carolina', 'North Dakota', 'Ohio', 'Oklahoma', 'Oregon', 'Pennsylvania', 'Rhode Island', 'South Carolina', 'South Dakota', 'Tennessee', 'Texas', 'Utah', 'Vermont', 'Virginia', 'Washington', 'West Virginia', 'Wisconsin', 'Wyoming'] 50\n"
     ]
    }
   ],
   "source": [
    "#states \n",
    "states = [name for name in names if name and name not in [\"postal abbreviation\", \"Reps.\"]]\n",
    "\n",
    "print(states,len(states))"
   ]
  },
  {
   "cell_type": "code",
   "execution_count": 124,
   "id": "3643c9b1-4568-4938-8fe3-9a40f7266c8b",
   "metadata": {},
   "outputs": [
    {
     "name": "stdout",
     "output_type": "stream",
     "text": [
      "['5,024,279', '7', '733,391', '1', '7,151,502', '9', '3,011,524', '4', '39,538,223', '52', '5,773,714', '8', '3,605,944', '5', '989,948', '1', '21,538,187', '28', '10,711,908', '14', '1,455,271', '2', '1,839,106', '2', '12,812,508', '17', '6,785,528', '9', '3,190,369', '4', '2,937,880', '4', '4,505,836', '6', '4,657,757', '6', '1,362,359', '2', '6,177,224', '8', '7,029,917', '9', '10,077,331', '13', '5,706,494', '8', '2,961,279', '4', '6,154,913', '8', '1,084,225', '2', '1,961,504', '3', '3,104,614', '4', '1,377,529', '2', '9,288,994', '12', '2,117,522', '3', '20,201,249', '26', '10,439,388', '14', '779,094', '1', '11,799,448', '15', '3,959,353', '5', '4,237,256', '6', '13,002,700', '17', '1,097,379', '2', '5,118,425', '7', '886,667', '1', '6,910,840', '9', '29,145,505', '38', '3,271,616', '4', '643,077', '1', '8,631,393', '11', '7,705,281', '10', '1,793,716', '2', '5,893,718', '8', '576,851', '1']\n"
     ]
    }
   ],
   "source": [
    "#populations\n",
    "divs = my_table.find_all(\"div\")\n",
    "pop = []\n",
    "for i in divs:\n",
    "    pop.append(i.string)\n",
    "\n",
    "print(pop)"
   ]
  },
  {
   "cell_type": "code",
   "execution_count": 126,
   "id": "666540b5-0b97-43af-a290-b1d33cdb0baa",
   "metadata": {},
   "outputs": [
    {
     "name": "stdout",
     "output_type": "stream",
     "text": [
      "['5,024,279', '733,391', '7,151,502', '3,011,524', '39,538,223', '5,773,714', '3,605,944', '989,948', '21,538,187', '10,711,908', '1,455,271', '1,839,106', '12,812,508', '6,785,528', '3,190,369', '2,937,880', '4,505,836', '4,657,757', '1,362,359', '6,177,224', '7,029,917', '10,077,331', '5,706,494', '2,961,279', '6,154,913', '1,084,225', '1,961,504', '3,104,614', '1,377,529', '9,288,994', '2,117,522', '20,201,249', '10,439,388', '779,094', '11,799,448', '3,959,353', '4,237,256', '13,002,700', '1,097,379', '5,118,425', '886,667', '6,910,840', '29,145,505', '3,271,616', '643,077', '8,631,393', '7,705,281', '1,793,716', '5,893,718', '576,851']\n"
     ]
    }
   ],
   "source": [
    "#Final Population\n",
    "pop_final = []\n",
    "for i in pop:\n",
    "    if len(i) > 3:\n",
    "        pop_final.append(i)\n",
    "print(pop_final)"
   ]
  },
  {
   "cell_type": "code",
   "execution_count": 128,
   "id": "d1dca4b0-f1c3-48f6-8899-51c8162893ed",
   "metadata": {},
   "outputs": [
    {
     "name": "stdout",
     "output_type": "stream",
     "text": [
      "             state  population\n",
      "0          Alabama   5,024,279\n",
      "1           Alaska     733,391\n",
      "2          Arizona   7,151,502\n",
      "3         Arkansas   3,011,524\n",
      "4       California  39,538,223\n",
      "5         Colorado   5,773,714\n",
      "6      Connecticut   3,605,944\n",
      "7         Delaware     989,948\n",
      "8          Florida  21,538,187\n",
      "9          Georgia  10,711,908\n",
      "10          Hawaii   1,455,271\n",
      "11           Idaho   1,839,106\n",
      "12        Illinois  12,812,508\n",
      "13         Indiana   6,785,528\n",
      "14            Iowa   3,190,369\n",
      "15          Kansas   2,937,880\n",
      "16        Kentucky   4,505,836\n",
      "17       Louisiana   4,657,757\n",
      "18           Maine   1,362,359\n",
      "19        Maryland   6,177,224\n",
      "20   Massachusetts   7,029,917\n",
      "21        Michigan  10,077,331\n",
      "22       Minnesota   5,706,494\n",
      "23     Mississippi   2,961,279\n",
      "24        Missouri   6,154,913\n",
      "25         Montana   1,084,225\n",
      "26        Nebraska   1,961,504\n",
      "27          Nevada   3,104,614\n",
      "28   New Hampshire   1,377,529\n",
      "29      New Jersey   9,288,994\n",
      "30      New Mexico   2,117,522\n",
      "31        New York  20,201,249\n",
      "32  North Carolina  10,439,388\n",
      "33    North Dakota     779,094\n",
      "34            Ohio  11,799,448\n",
      "35        Oklahoma   3,959,353\n",
      "36          Oregon   4,237,256\n",
      "37    Pennsylvania  13,002,700\n",
      "38    Rhode Island   1,097,379\n",
      "39  South Carolina   5,118,425\n",
      "40    South Dakota     886,667\n",
      "41       Tennessee   6,910,840\n",
      "42           Texas  29,145,505\n",
      "43            Utah   3,271,616\n",
      "44         Vermont     643,077\n",
      "45        Virginia   8,631,393\n",
      "46      Washington   7,705,281\n",
      "47   West Virginia   1,793,716\n",
      "48       Wisconsin   5,893,718\n",
      "49         Wyoming     576,851\n"
     ]
    }
   ],
   "source": [
    "df = pd.DataFrame()\n",
    "df['state'] = states\n",
    "df['population'] = pop_final\n",
    "print(df)"
   ]
  },
  {
   "cell_type": "code",
   "execution_count": 112,
   "id": "2ac737b3-f0dd-4556-8086-8a0ce3d55777",
   "metadata": {},
   "outputs": [],
   "source": [
    "df.to_csv('us_info.csv')"
   ]
  },
  {
   "cell_type": "code",
   "execution_count": null,
   "id": "fd67455d-c3c3-4c42-b7e1-5c97c38a551e",
   "metadata": {},
   "outputs": [],
   "source": []
  }
 ],
 "metadata": {
  "kernelspec": {
   "display_name": "Python 3 (ipykernel)",
   "language": "python",
   "name": "python3"
  },
  "language_info": {
   "codemirror_mode": {
    "name": "ipython",
    "version": 3
   },
   "file_extension": ".py",
   "mimetype": "text/x-python",
   "name": "python",
   "nbconvert_exporter": "python",
   "pygments_lexer": "ipython3",
   "version": "3.12.4"
  }
 },
 "nbformat": 4,
 "nbformat_minor": 5
}
